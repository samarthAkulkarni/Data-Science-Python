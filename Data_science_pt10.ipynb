{
 "cells": [
  {
   "cell_type": "markdown",
   "id": "4e04af91",
   "metadata": {},
   "source": [
    "### Working with JSON"
   ]
  },
  {
   "cell_type": "code",
   "execution_count": 1,
   "id": "8b381184",
   "metadata": {},
   "outputs": [],
   "source": [
    "import json"
   ]
  },
  {
   "cell_type": "code",
   "execution_count": 2,
   "id": "bc796a54",
   "metadata": {},
   "outputs": [],
   "source": [
    "data = '{\"name\":\"Samarth\", \"age\":15, \"surname\":\"Kulkarni\"}'"
   ]
  },
  {
   "cell_type": "code",
   "execution_count": 3,
   "id": "0d056313",
   "metadata": {},
   "outputs": [],
   "source": [
    "json_data = json.loads(data)"
   ]
  },
  {
   "cell_type": "code",
   "execution_count": 4,
   "id": "81392e94",
   "metadata": {},
   "outputs": [
    {
     "data": {
      "text/plain": [
       "{'name': 'Samarth', 'age': 15, 'surname': 'Kulkarni'}"
      ]
     },
     "execution_count": 4,
     "metadata": {},
     "output_type": "execute_result"
    }
   ],
   "source": [
    "json_data"
   ]
  },
  {
   "cell_type": "code",
   "execution_count": 5,
   "id": "da2ccda2",
   "metadata": {},
   "outputs": [],
   "source": [
    "with open('from_pt10.json', 'w') as f:\n",
    "    json.dump(json_data, f)"
   ]
  }
 ],
 "metadata": {
  "kernelspec": {
   "display_name": "Python 3 (ipykernel)",
   "language": "python",
   "name": "python3"
  },
  "language_info": {
   "codemirror_mode": {
    "name": "ipython",
    "version": 3
   },
   "file_extension": ".py",
   "mimetype": "text/x-python",
   "name": "python",
   "nbconvert_exporter": "python",
   "pygments_lexer": "ipython3",
   "version": "3.9.2"
  }
 },
 "nbformat": 4,
 "nbformat_minor": 5
}
