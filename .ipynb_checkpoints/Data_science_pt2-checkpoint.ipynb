{
 "cells": [
  {
   "cell_type": "markdown",
   "id": "444d4d27",
   "metadata": {},
   "source": [
    "This file has code of basic NumPy function, slicing of arrays etc."
   ]
  },
  {
   "cell_type": "markdown",
   "id": "a2282972",
   "metadata": {},
   "source": [
    "### Importing NumPy package"
   ]
  },
  {
   "cell_type": "code",
   "execution_count": 1,
   "id": "cee0119e",
   "metadata": {},
   "outputs": [],
   "source": [
    "import numpy as np"
   ]
  },
  {
   "cell_type": "code",
   "execution_count": 2,
   "id": "41c74d82",
   "metadata": {},
   "outputs": [
    {
     "name": "stdout",
     "output_type": "stream",
     "text": [
      "[[ 1  2  3  4]\n",
      " [ 1  4  9 16]]\n"
     ]
    }
   ],
   "source": [
    "array1 = np.array([[1, 2, 3, 4], [1, 4, 9, 16]])\n",
    "print(array1)"
   ]
  },
  {
   "cell_type": "code",
   "execution_count": 3,
   "id": "2305735b",
   "metadata": {},
   "outputs": [
    {
     "name": "stdout",
     "output_type": "stream",
     "text": [
      "(2, 4)\n"
     ]
    }
   ],
   "source": [
    "print(array1.shape) # it tells that there are 2 rows and 4 coloums in \"array1\""
   ]
  },
  {
   "cell_type": "code",
   "execution_count": 4,
   "id": "d020db9b",
   "metadata": {},
   "outputs": [
    {
     "name": "stdout",
     "output_type": "stream",
     "text": [
      "int64\n"
     ]
    }
   ],
   "source": [
    "print(array1.dtype) # it tells the type of array. If array contains decimal numbers it would give float this depends on size of an array"
   ]
  },
  {
   "cell_type": "code",
   "execution_count": 5,
   "id": "327d5c05",
   "metadata": {},
   "outputs": [
    {
     "name": "stdout",
     "output_type": "stream",
     "text": [
      "[[0. 0. 0. 0.]\n",
      " [0. 0. 0. 0.]]\n"
     ]
    }
   ],
   "source": [
    "print(np.zeros((2, 4))) # this creates an array of zeros given number of rows and coloums"
   ]
  },
  {
   "cell_type": "code",
   "execution_count": 6,
   "id": "b48f6354",
   "metadata": {},
   "outputs": [
    {
     "name": "stdout",
     "output_type": "stream",
     "text": [
      "[[1. 1. 1. 1.]\n",
      " [1. 1. 1. 1.]]\n"
     ]
    }
   ],
   "source": [
    "print(np.ones((2, 4))) # this creates an array of ones given number of rows and coloums"
   ]
  },
  {
   "cell_type": "code",
   "execution_count": 7,
   "id": "3f2acb5a",
   "metadata": {},
   "outputs": [
    {
     "name": "stdout",
     "output_type": "stream",
     "text": [
      "[[1. 1. 1. 1.]\n",
      " [1. 1. 1. 1.]]\n"
     ]
    }
   ],
   "source": [
    "print(np.empty((2, 4))) # this creates an array of ones/zeros given number of rows and coloums\n",
    "\n",
    "# NOTE: np.empty and np.ones or np.zeros are not same bcoz np.empty can contain value while zeros and ones have only 0 and 1 in there array"
   ]
  },
  {
   "cell_type": "markdown",
   "id": "2052c80f",
   "metadata": {},
   "source": [
    "#### Operations with numpy arrays"
   ]
  },
  {
   "cell_type": "code",
   "execution_count": 8,
   "id": "db366751",
   "metadata": {},
   "outputs": [
    {
     "name": "stdout",
     "output_type": "stream",
     "text": [
      "[ 10  40  90 160 250]\n",
      "[11 22 33 44 55]\n",
      "[ -9 -18 -27 -36 -45]\n",
      "[0.1 0.1 0.1 0.1 0.1]\n",
      "[                   1              1048576      205891132094649\n",
      "                    0 -6776596920136667815]\n"
     ]
    }
   ],
   "source": [
    "# making two np arrays\n",
    "\n",
    "arr1 = np.array([1, 2, 3, 4, 5])\n",
    "arr2 = np.array([10, 20, 30, 40, 50])\n",
    "\n",
    "# multiplication\n",
    "print(arr1*arr2)\n",
    "\n",
    "# addition\n",
    "print(arr1+arr2)\n",
    "\n",
    "# subtraction\n",
    "print(arr1-arr2)\n",
    "\n",
    "# division\n",
    "print(arr1/arr2)\n",
    "\n",
    "# squaring\n",
    "print(arr1**arr2)"
   ]
  },
  {
   "cell_type": "markdown",
   "id": "a09cf6f6",
   "metadata": {},
   "source": [
    "## Slicing"
   ]
  },
  {
   "cell_type": "code",
   "execution_count": 9,
   "id": "947a734a",
   "metadata": {},
   "outputs": [
    {
     "name": "stdout",
     "output_type": "stream",
     "text": [
      "[1 2 3 4 5 6]\n",
      "[2 3 4 5]\n",
      "[  1   2   3   4 100   6]\n"
     ]
    }
   ],
   "source": [
    "new_arr = np.array([1, 2, 3, 4, 5, 6])\n",
    "print(new_arr)\n",
    "\n",
    "print(new_arr[1:5])\n",
    "\n",
    "new_arr[4] = 100\n",
    "\n",
    "print(new_arr)"
   ]
  }
 ],
 "metadata": {
  "kernelspec": {
   "display_name": "Python 3 (ipykernel)",
   "language": "python",
   "name": "python3"
  },
  "language_info": {
   "codemirror_mode": {
    "name": "ipython",
    "version": 3
   },
   "file_extension": ".py",
   "mimetype": "text/x-python",
   "name": "python",
   "nbconvert_exporter": "python",
   "pygments_lexer": "ipython3",
   "version": "3.9.2"
  }
 },
 "nbformat": 4,
 "nbformat_minor": 5
}
