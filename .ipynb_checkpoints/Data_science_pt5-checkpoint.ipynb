{
 "cells": [
  {
   "cell_type": "markdown",
   "id": "4f729b30",
   "metadata": {},
   "source": [
    "# Pandas\n"
   ]
  },
  {
   "cell_type": "markdown",
   "id": "6c9de690",
   "metadata": {},
   "source": [
    "It is a package used to read and write csv,json etc files"
   ]
  },
  {
   "cell_type": "code",
   "execution_count": 1,
   "id": "b6ea1410",
   "metadata": {},
   "outputs": [],
   "source": [
    "import pandas as pd\n",
    "import numpy as np"
   ]
  },
  {
   "cell_type": "code",
   "execution_count": 2,
   "id": "3ec6c388",
   "metadata": {},
   "outputs": [],
   "source": [
    "df = pd.DataFrame()"
   ]
  },
  {
   "cell_type": "code",
   "execution_count": 3,
   "id": "b3db6dd9",
   "metadata": {},
   "outputs": [
    {
     "name": "stdout",
     "output_type": "stream",
     "text": [
      "Empty DataFrame\n",
      "Columns: []\n",
      "Index: []\n"
     ]
    }
   ],
   "source": [
    "print(df)"
   ]
  },
  {
   "cell_type": "code",
   "execution_count": 4,
   "id": "f8f5bf28",
   "metadata": {},
   "outputs": [
    {
     "name": "stdout",
     "output_type": "stream",
     "text": [
      "         0     1      2     3\n",
      "0     name  date  month  year\n",
      "1  Samarth     8     11  2007\n",
      "2    Rahul     2      6  2006\n",
      "3   rakesh     3      8  2015\n"
     ]
    }
   ],
   "source": [
    "df_1 = pd.DataFrame([['name', 'date', 'month', 'year'], ['Samarth', '8', '11', '2007'], ['Rahul', '2', '6', '2006'], ['rakesh', '3', '8', '2015']])\n",
    "print(df_1)"
   ]
  },
  {
   "cell_type": "code",
   "execution_count": 5,
   "id": "e6794ed1",
   "metadata": {},
   "outputs": [
    {
     "name": "stdout",
     "output_type": "stream",
     "text": [
      "         0     1      2     3\n",
      "0     name  date  month  year\n",
      "1  Samarth     8     11  2007\n"
     ]
    }
   ],
   "source": [
    "print(df_1.head(2))\n"
   ]
  },
  {
   "cell_type": "code",
   "execution_count": 6,
   "id": "c7b0ebd9",
   "metadata": {},
   "outputs": [
    {
     "name": "stdout",
     "output_type": "stream",
     "text": [
      "        0  1  2     3\n",
      "2   Rahul  2  6  2006\n",
      "3  rakesh  3  8  2015\n"
     ]
    }
   ],
   "source": [
    "print(df_1.tail(2))"
   ]
  }
 ],
 "metadata": {
  "kernelspec": {
   "display_name": "Python 3 (ipykernel)",
   "language": "python",
   "name": "python3"
  },
  "language_info": {
   "codemirror_mode": {
    "name": "ipython",
    "version": 3
   },
   "file_extension": ".py",
   "mimetype": "text/x-python",
   "name": "python",
   "nbconvert_exporter": "python",
   "pygments_lexer": "ipython3",
   "version": "3.9.2"
  }
 },
 "nbformat": 4,
 "nbformat_minor": 5
}
