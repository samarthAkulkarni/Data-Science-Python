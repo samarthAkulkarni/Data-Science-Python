{
 "cells": [
  {
   "cell_type": "markdown",
   "id": "dee3fd12",
   "metadata": {},
   "source": [
    "This file contains the code of \"how to make an array in NumPy\".\n",
    "NumPy is a general-purpose array-processing package in Python. It provides a high-performance multidimensional array object, and tools for working with these arrays. NumPy is used for working with arrays and is short for \"Numerical Python\"."
   ]
  },
  {
   "cell_type": "markdown",
   "id": "d3e9a817",
   "metadata": {},
   "source": [
    "# NumPy"
   ]
  },
  {
   "cell_type": "markdown",
   "id": "0f04de87",
   "metadata": {},
   "source": [
    "### Importing NumPy package "
   ]
  },
  {
   "cell_type": "code",
   "execution_count": 1,
   "id": "821b39bf",
   "metadata": {},
   "outputs": [],
   "source": [
    "import numpy as np"
   ]
  },
  {
   "cell_type": "markdown",
   "id": "3593c0cc",
   "metadata": {},
   "source": [
    "#### making a normal 'list' in python and 'array' on NumPy"
   ]
  },
  {
   "cell_type": "code",
   "execution_count": 2,
   "id": "79ab61f7",
   "metadata": {},
   "outputs": [
    {
     "name": "stdout",
     "output_type": "stream",
     "text": [
      "[1, 2, 3, 4]\n",
      "[1 2 3 4]\n"
     ]
    }
   ],
   "source": [
    "# normal list\n",
    "list1 = [1, 2, 3, 4]\n",
    "print(list1)\n",
    "\n",
    "# NumPy list/array\n",
    "array1 = np.array([1, 2, 3, 4])\n",
    "print(array1)"
   ]
  }
 ],
 "metadata": {
  "kernelspec": {
   "display_name": "Python 3 (ipykernel)",
   "language": "python",
   "name": "python3"
  },
  "language_info": {
   "codemirror_mode": {
    "name": "ipython",
    "version": 3
   },
   "file_extension": ".py",
   "mimetype": "text/x-python",
   "name": "python",
   "nbconvert_exporter": "python",
   "pygments_lexer": "ipython3",
   "version": "3.9.2"
  }
 },
 "nbformat": 4,
 "nbformat_minor": 5
}
