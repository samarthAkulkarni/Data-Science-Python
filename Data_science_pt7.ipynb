{
 "cells": [
  {
   "cell_type": "code",
   "execution_count": 1,
   "id": "3f0e99bc",
   "metadata": {},
   "outputs": [],
   "source": [
    "import pandas as pd\n",
    "import numpy as np"
   ]
  },
  {
   "cell_type": "code",
   "execution_count": 2,
   "id": "a42c422b",
   "metadata": {},
   "outputs": [
    {
     "name": "stdout",
     "output_type": "stream",
     "text": [
      "          Date      Open      High       Low     Close\n",
      "0  06 Jun 2023  18600.80  18622.75  18531.60  18599.00\n",
      "1  05 Jun 2023  18612.00  18640.15  18582.80  18593.85\n",
      "2  02 Jun 2023  18550.85  18573.70  18478.40  18534.10\n",
      "3  01 Jun 2023  18579.40  18580.30  18464.55  18487.75\n",
      "4  31 May 2023  18594.20  18603.90  18483.85  18534.40\n"
     ]
    },
    {
     "data": {
      "text/html": [
       "<div>\n",
       "<style scoped>\n",
       "    .dataframe tbody tr th:only-of-type {\n",
       "        vertical-align: middle;\n",
       "    }\n",
       "\n",
       "    .dataframe tbody tr th {\n",
       "        vertical-align: top;\n",
       "    }\n",
       "\n",
       "    .dataframe thead th {\n",
       "        text-align: right;\n",
       "    }\n",
       "</style>\n",
       "<table border=\"1\" class=\"dataframe\">\n",
       "  <thead>\n",
       "    <tr style=\"text-align: right;\">\n",
       "      <th></th>\n",
       "      <th>Open</th>\n",
       "      <th>High</th>\n",
       "      <th>Low</th>\n",
       "      <th>Close</th>\n",
       "    </tr>\n",
       "  </thead>\n",
       "  <tbody>\n",
       "    <tr>\n",
       "      <th>count</th>\n",
       "      <td>22.000000</td>\n",
       "      <td>22.000000</td>\n",
       "      <td>22.000000</td>\n",
       "      <td>22.000000</td>\n",
       "    </tr>\n",
       "    <tr>\n",
       "      <th>mean</th>\n",
       "      <td>18389.727273</td>\n",
       "      <td>18442.027273</td>\n",
       "      <td>18310.872727</td>\n",
       "      <td>18382.163636</td>\n",
       "    </tr>\n",
       "    <tr>\n",
       "      <th>std</th>\n",
       "      <td>157.681314</td>\n",
       "      <td>138.201206</td>\n",
       "      <td>169.250787</td>\n",
       "      <td>151.320220</td>\n",
       "    </tr>\n",
       "    <tr>\n",
       "      <th>min</th>\n",
       "      <td>18120.600000</td>\n",
       "      <td>18218.100000</td>\n",
       "      <td>18060.400000</td>\n",
       "      <td>18129.950000</td>\n",
       "    </tr>\n",
       "    <tr>\n",
       "      <th>25%</th>\n",
       "      <td>18289.325000</td>\n",
       "      <td>18335.962500</td>\n",
       "      <td>18196.512500</td>\n",
       "      <td>18285.675000</td>\n",
       "    </tr>\n",
       "    <tr>\n",
       "      <th>50%</th>\n",
       "      <td>18348.550000</td>\n",
       "      <td>18406.175000</td>\n",
       "      <td>18267.375000</td>\n",
       "      <td>18318.125000</td>\n",
       "    </tr>\n",
       "    <tr>\n",
       "      <th>75%</th>\n",
       "      <td>18572.262500</td>\n",
       "      <td>18578.650000</td>\n",
       "      <td>18474.937500</td>\n",
       "      <td>18525.412500</td>\n",
       "    </tr>\n",
       "    <tr>\n",
       "      <th>max</th>\n",
       "      <td>18619.150000</td>\n",
       "      <td>18662.450000</td>\n",
       "      <td>18582.800000</td>\n",
       "      <td>18633.850000</td>\n",
       "    </tr>\n",
       "  </tbody>\n",
       "</table>\n",
       "</div>"
      ],
      "text/plain": [
       "               Open          High           Low         Close\n",
       "count     22.000000     22.000000     22.000000     22.000000\n",
       "mean   18389.727273  18442.027273  18310.872727  18382.163636\n",
       "std      157.681314    138.201206    169.250787    151.320220\n",
       "min    18120.600000  18218.100000  18060.400000  18129.950000\n",
       "25%    18289.325000  18335.962500  18196.512500  18285.675000\n",
       "50%    18348.550000  18406.175000  18267.375000  18318.125000\n",
       "75%    18572.262500  18578.650000  18474.937500  18525.412500\n",
       "max    18619.150000  18662.450000  18582.800000  18633.850000"
      ]
     },
     "execution_count": 2,
     "metadata": {},
     "output_type": "execute_result"
    }
   ],
   "source": [
    "df = pd.read_csv('nifty.csv')\n",
    "print(df.head())\n",
    "df.describe()"
   ]
  },
  {
   "cell_type": "code",
   "execution_count": null,
   "id": "edbd00db",
   "metadata": {},
   "outputs": [],
   "source": []
  }
 ],
 "metadata": {
  "kernelspec": {
   "display_name": "Python 3 (ipykernel)",
   "language": "python",
   "name": "python3"
  },
  "language_info": {
   "codemirror_mode": {
    "name": "ipython",
    "version": 3
   },
   "file_extension": ".py",
   "mimetype": "text/x-python",
   "name": "python",
   "nbconvert_exporter": "python",
   "pygments_lexer": "ipython3",
   "version": "3.9.2"
  }
 },
 "nbformat": 4,
 "nbformat_minor": 5
}
