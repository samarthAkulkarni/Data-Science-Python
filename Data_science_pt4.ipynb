{
 "cells": [
  {
   "cell_type": "markdown",
   "id": "5cb440ec",
   "metadata": {},
   "source": [
    "## Some more NumPy useful Functions\n"
   ]
  },
  {
   "cell_type": "code",
   "execution_count": 1,
   "id": "970c704a",
   "metadata": {},
   "outputs": [],
   "source": [
    "import numpy as np"
   ]
  },
  {
   "cell_type": "code",
   "execution_count": 13,
   "id": "d0bb074b",
   "metadata": {},
   "outputs": [],
   "source": [
    "a = np.array([10, 12, 39, 44, 45, 26, 97, 18, 90, 101])"
   ]
  },
  {
   "cell_type": "code",
   "execution_count": 15,
   "id": "7c869f59",
   "metadata": {},
   "outputs": [
    {
     "name": "stdout",
     "output_type": "stream",
     "text": [
      "(10,)\n",
      "[[ 10  12  39  44  45]\n",
      " [ 26  97  18  90 101]]\n",
      "[0 1 7 5 2 3 4 8 6 9]\n"
     ]
    }
   ],
   "source": [
    "print(a.shape)\n",
    "\n",
    "print(a.reshape(2, 5))\n",
    "\n",
    "print(np.argsort(a))"
   ]
  }
 ],
 "metadata": {
  "kernelspec": {
   "display_name": "Python 3 (ipykernel)",
   "language": "python",
   "name": "python3"
  },
  "language_info": {
   "codemirror_mode": {
    "name": "ipython",
    "version": 3
   },
   "file_extension": ".py",
   "mimetype": "text/x-python",
   "name": "python",
   "nbconvert_exporter": "python",
   "pygments_lexer": "ipython3",
   "version": "3.9.2"
  }
 },
 "nbformat": 4,
 "nbformat_minor": 5
}
